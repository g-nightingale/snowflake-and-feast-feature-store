{
 "cells": [
  {
   "cell_type": "markdown",
   "metadata": {},
   "source": [
    "# Snowflake and Feast Feature Store Demo\n",
    "\n",
    "Feast abstracts data engineering work in building datasets for training machine learning models, and also in reproducing these datasets for serving machine learning models in production.\n",
    "\n",
    "Feast decouples models from data infrastructure by providing a single data access layer that abstracts feature storage from feature retrieval. Feast also provides a consistent means of referencing feature data for retrieval, and therefore ensures that models remain portable when moving from training to serving.\n",
    "\n",
    "### Feast documentation\n",
    "https://docs.feast.dev/ \n",
    "\n",
    "### Core concepts\n",
    "The top-level namespace within Feast is a project. \n",
    "- Users define one or more feature views within a project. \n",
    "- Each feature view contains one or more features. These features typically relate to one or more entities. \n",
    "- A feature view must always have a data source, which in turn is used during the generation of training datasets and when materializing feature values into the online store.\n",
    "\n",
    "<img src=\"images\\concepts.png\" width=500/>\n",
    "\n",
    "### Feast objects\n",
    "| Feast object | Description |\n",
    "|--------------|-------------|\n",
    "| Data Source | The data source refers to raw underlying data (e.g. a table in BigQuery). Feast uses a time-series data model to represent data. This data model is used to interpret feature data in data sources in order to build training datasets or when materializing features into an online store.\n",
    "| Dataset | Feast datasets allow for conveniently saving dataframes that include both features and entities to be subsequently used for data analysis and model training. Datasets are created from results of historical retrieval. <br><br> Dataset vs Feature View: Feature views contain the schema of data and a reference to where data can be found (through its data source). Datasets are the actual data manifestation of querying those data sources. <br><br> Dataset vs Data Source: Datasets are the output of historical retrieval, whereas data sources are the inputs. One or more data sources can be used in the creation of a dataset. \n",
    "| Entity | An entity is a collection of semantically related features. Users define entities to map to the domain of their use case.  E.g. account number, customer id, driver id etc. <br><br> Entities are typically defined as part of feature views. Entity name is used to reference the entity from a feature view definition and join key is used to identify the physical primary key on which feature values should be stored and retrieved.\n",
    "| Feature | A feature is an individual measurable property. It is typically a property observed on a specific entity, but does not have to be associated with an entity. For example, a feature of a customer entity could be the number of transactions they have made on an average month, while a feature that is not observed on a specific entity could be the total number of posts made by all users in the last month. <br><br> Features are defined as part of feature views. Since Feast does not transform data, a feature is essentially a schema that only contains a name and a type.\n",
    "| Feature View | A feature view is an object that represents a logical group of time-series feature data as it is found in a data source. Feature views consist of zero or more entities, one or more features, and a data source. Feature views allow Feast to model your existing feature data in a consistent way in both an offline (training) and online (serving) environment.\n",
    "| Stream feature view | A stream feature view is an extension of a normal feature view. The primary difference is that stream feature views have both stream and batch data sources, whereas a normal feature view only has a batch data source.\n",
    "| Feature Services | A feature service is an object that represents a logical group of features from one or more feature views. Feature Services allows features from within a feature view to be used as needed by an ML model. Users can expect to create one feature service per model version, allowing for tracking of the features used by models.\n",
    "| Dataset | Feast datasets allow for conveniently saving dataframes that include both features and entities to be subsequently used for data analysis and model training. Datasets are created from results of historical retrieval.\n",
    "| Registry | The Feast registry is where all applied Feast objects (e.g. Feature views, entities, etc) are stored. The registry exposes methods to apply, list, retrieve and delete these objects. The registry is abstraction, with multiple possible implementations. <br><br>The registry can be either filed-based or SQL based. |\n",
    "\n",
    "### Feast architecture\n",
    "<img src=\"images/feast_architecture2.jpeg\" width=800/>\n",
    "<br><br>\n",
    "<img src=\"images/feast_architecture.png\" width=500/>"
   ]
  },
  {
   "cell_type": "markdown",
   "metadata": {},
   "source": [
    "## Installing Feast and initialising a feature store\n",
    "\n",
    "        pip install 'feast[snowflake]'\n",
    "        feast init <project-name> -t snowflake"
   ]
  },
  {
   "cell_type": "markdown",
   "metadata": {},
   "source": [
    "## Define entities, data sources, feature views\n",
    "\n",
    "**Entity**: Primary key such as an account number, customer id etc. <br>\n",
    "**Data source**: Underlying data source from where features are retrieved. <br>\n",
    "**Feature view**: Grouping of features aligned to an online or offline store.\n"
   ]
  },
  {
   "cell_type": "code",
   "execution_count": 1,
   "metadata": {},
   "outputs": [],
   "source": [
    "from datetime import datetime, timedelta\n",
    "import yaml\n",
    "from feast import FeatureStore, Entity, FeatureService, FeatureView, Field, SnowflakeSource\n",
    "from feast.types import Float32, Int64\n",
    "from feast.infra.offline_stores.snowflake_source import SavedDatasetSnowflakeStorage\n",
    "from feast.infra.offline_stores.file_source import SavedDatasetFileStorage\n",
    "from feast import FileSource\n",
    "from feast.data_format import ParquetFormat\n",
    "import pandas as pd"
   ]
  },
  {
   "cell_type": "code",
   "execution_count": 20,
   "metadata": {},
   "outputs": [],
   "source": [
    "!feast teardown"
   ]
  },
  {
   "cell_type": "code",
   "execution_count": 21,
   "metadata": {},
   "outputs": [
    {
     "name": "stdout",
     "output_type": "stream",
     "text": [
      "Deploying feature store...\n"
     ]
    },
    {
     "name": "stderr",
     "output_type": "stream",
     "text": [
      "/Users/geoffrey.nightingale@contino.io/opt/anaconda3/envs/feast-test/lib/python3.8/site-packages/feast/feature_view.py:285: DeprecationWarning: batch_source and stream_source have been deprecated in favor of `source`.The deprecated fields will be removed in Feast 0.24.\n",
      "  warnings.warn(\n"
     ]
    }
   ],
   "source": [
    "# Load the feature store from the current path\n",
    "fs = FeatureStore(repo_path=\".\")\n",
    "\n",
    "# Create entity\n",
    "driver = Entity(\n",
    "    name=\"driver\",\n",
    "    join_keys=[\"driver_id\"],\n",
    ")\n",
    "\n",
    "driver_stats_source = FileSource(\n",
    "    file_format=ParquetFormat(),\n",
    "    path=\"data/driver_stats.parquet\",    \n",
    "    timestamp_field=\"event_timestamp\",\n",
    "    created_timestamp_column=\"created\",\n",
    ")\n",
    "\n",
    "driver_stats_fv = FeatureView(\n",
    "    name=\"driver_hourly_stats\",\n",
    "    entities=[driver],\n",
    "    ttl=timedelta(weeks=52),\n",
    "    schema=[\n",
    "        Field(name=\"conv_rate\", dtype=Float32),\n",
    "        Field(name=\"acc_rate\", dtype=Float32),\n",
    "        Field(name=\"avg_daily_trips\", dtype=Int64),\n",
    "    ],\n",
    "    batch_source=driver_stats_source,\n",
    "    online=True\n",
    ")\n",
    "\n",
    "driver_stats_fs = FeatureService(name=\"driver_activity\", features=[driver_stats_fv])\n",
    "\n",
    "# Deploy the feature store\n",
    "print(\"Deploying feature store...\")\n",
    "fs.apply([driver, driver_stats_fv, driver_stats_fs])"
   ]
  },
  {
   "cell_type": "markdown",
   "metadata": {},
   "source": [
    "## Create a streaming source"
   ]
  },
  {
   "cell_type": "code",
   "execution_count": null,
   "metadata": {},
   "outputs": [],
   "source": [
    "#todo"
   ]
  },
  {
   "cell_type": "markdown",
   "metadata": {},
   "source": [
    "## Retrieving data from the feature store\n",
    "\n",
    "We can retrieve features across numerous feature views:"
   ]
  },
  {
   "cell_type": "code",
   "execution_count": 2,
   "metadata": {},
   "outputs": [],
   "source": [
    "# Load the feature store from the current path\n",
    "fs = FeatureStore(repo_path=\".\")\n",
    "\n",
    "# Define feature views and features to retrieve\n",
    "features = [\"driver_hourly_stats:conv_rate\", \n",
    "            \"driver_hourly_stats:acc_rate\",\n",
    "            \"driver_hourly_stats:avg_daily_trips\"]"
   ]
  },
  {
   "cell_type": "code",
   "execution_count": 10,
   "metadata": {},
   "outputs": [
    {
     "name": "stdout",
     "output_type": "stream",
     "text": [
      "                   event_timestamp  driver_id\n",
      "0 2022-07-29 13:56:53.219000+00:00       1001\n",
      "1 2022-07-31 01:56:53.219000+00:00       1002\n",
      "2 2022-08-01 13:56:53.219000+00:00       1003\n"
     ]
    }
   ],
   "source": [
    "# Create an entity dataframe. This is the dataframe that will be enriched with historical features\n",
    "entity_df = pd.DataFrame(\n",
    "    {\n",
    "        \"event_timestamp\": [\n",
    "            pd.Timestamp(dt, unit=\"ms\", tz=\"UTC\").round(\"ms\")\n",
    "            for dt in pd.date_range(\n",
    "                start=datetime.now() - timedelta(days=3),\n",
    "                end=datetime.now(),\n",
    "                periods=3,\n",
    "            )\n",
    "        ],\n",
    "        \"driver_id\": [1001, 1002, 1003],\n",
    "    }\n",
    ")\n",
    "\n",
    "print(entity_df.head())"
   ]
  },
  {
   "cell_type": "code",
   "execution_count": 24,
   "metadata": {},
   "outputs": [
    {
     "name": "stdout",
     "output_type": "stream",
     "text": [
      "                   event_timestamp  driver_id  conv_rate  acc_rate  \\\n",
      "0 2022-07-29 11:58:25.895000+00:00       1001   0.138443  0.845902   \n",
      "1 2022-07-30 23:58:25.895000+00:00       1002   0.037272  0.990824   \n",
      "2 2022-08-01 11:58:25.895000+00:00       1003   0.483464  0.183020   \n",
      "\n",
      "   avg_daily_trips  \n",
      "0              275  \n",
      "1              655  \n",
      "2              705  \n"
     ]
    }
   ],
   "source": [
    "# Retrieve historical features by joining the entity dataframe to the Snowflake table source\n",
    "training_df = fs.get_historical_features(\n",
    "    features=features, entity_df=entity_df\n",
    ").to_df()\n",
    "\n",
    "print(training_df.head())\n"
   ]
  },
  {
   "cell_type": "markdown",
   "metadata": {},
   "source": [
    "## Feast UI"
   ]
  },
  {
   "cell_type": "code",
   "execution_count": 9,
   "metadata": {},
   "outputs": [
    {
     "name": "stdout",
     "output_type": "stream",
     "text": [
      "/Users/geoffrey.nightingale@contino.io/opt/anaconda3/envs/feast-test/lib/python3.8/site-packages/feast/feature_store.py:2229: RuntimeWarning: The Feast UI is an experimental feature. We do not guarantee that future changes will maintain backward compatibility.\n",
      "  warnings.warn(\n",
      "\u001b[32mINFO\u001b[0m:     Started server process [\u001b[36m36369\u001b[0m]\n",
      "08/01/2022 11:51:17 AM uvicorn.error INFO: Started server process [36369]\n",
      "\u001b[32mINFO\u001b[0m:     Waiting for application startup.\n",
      "08/01/2022 11:51:17 AM uvicorn.error INFO: Waiting for application startup.\n",
      "\u001b[32mINFO\u001b[0m:     Application startup complete.\n",
      "08/01/2022 11:51:17 AM uvicorn.error INFO: Application startup complete.\n",
      "\u001b[32mINFO\u001b[0m:     Uvicorn running on \u001b[1mhttp://localhost:9090\u001b[0m (Press CTRL+C to quit)\n",
      "08/01/2022 11:51:17 AM uvicorn.error INFO: Uvicorn running on http://localhost:9090 (Press CTRL+C to quit)\n",
      "\u001b[32mINFO\u001b[0m:     ::1:53807 - \"\u001b[1mGET / HTTP/1.1\u001b[0m\" \u001b[33m304 Not Modified\u001b[0m\n",
      "\u001b[32mINFO\u001b[0m:     ::1:53807 - \"\u001b[1mGET /static/js/main.3d0f2d20.js HTTP/1.1\u001b[0m\" \u001b[32m200 OK\u001b[0m\n",
      "\u001b[32mINFO\u001b[0m:     ::1:53808 - \"\u001b[1mGET /static/css/main.4b6d8029.css HTTP/1.1\u001b[0m\" \u001b[32m200 OK\u001b[0m\n",
      "\u001b[32mINFO\u001b[0m:     ::1:53807 - \"\u001b[1mGET /static/media/feast-icon-grey.e5aa0a305d8efd775c4b.svg HTTP/1.1\u001b[0m\" \u001b[33m304 Not Modified\u001b[0m\n",
      "\u001b[32mINFO\u001b[0m:     ::1:53807 - \"\u001b[1mGET /projects-list.json HTTP/1.1\u001b[0m\" \u001b[32m200 OK\u001b[0m\n",
      "\u001b[32mINFO\u001b[0m:     ::1:53807 - \"\u001b[1mGET /static/js/icon.arrow_down.a3157431.chunk.js HTTP/1.1\u001b[0m\" \u001b[33m304 Not Modified\u001b[0m\n",
      "\u001b[32mINFO\u001b[0m:     ::1:53807 - \"\u001b[1mGET /registry HTTP/1.1\u001b[0m\" \u001b[32m200 OK\u001b[0m\n",
      "\u001b[32mINFO\u001b[0m:     ::1:53809 - \"\u001b[1mGET /manifest.json HTTP/1.1\u001b[0m\" \u001b[33m304 Not Modified\u001b[0m\n",
      "\u001b[32mINFO\u001b[0m:     ::1:53807 - \"\u001b[1mGET /feast-favicon-300x300.png HTTP/1.1\u001b[0m\" \u001b[32m200 OK\u001b[0m\n",
      "\u001b[32mINFO\u001b[0m:     ::1:53807 - \"\u001b[1mGET /static/js/icon.search.55e12690.chunk.js HTTP/1.1\u001b[0m\" \u001b[33m304 Not Modified\u001b[0m\n",
      "^C\n",
      "\u001b[32mINFO\u001b[0m:     Shutting down\n",
      "08/01/2022 11:51:42 AM uvicorn.error INFO: Shutting down\n",
      "\u001b[32mINFO\u001b[0m:     Waiting for application shutdown.\n",
      "08/01/2022 11:51:42 AM uvicorn.error INFO: Waiting for application shutdown.\n",
      "\u001b[32mINFO\u001b[0m:     Application shutdown complete.\n",
      "08/01/2022 11:51:42 AM uvicorn.error INFO: Application shutdown complete.\n",
      "\u001b[32mINFO\u001b[0m:     Finished server process [\u001b[36m36369\u001b[0m]\n",
      "08/01/2022 11:51:42 AM uvicorn.error INFO: Finished server process [36369]\n"
     ]
    }
   ],
   "source": [
    "!feast ui -h localhost -p 9090"
   ]
  },
  {
   "cell_type": "markdown",
   "metadata": {},
   "source": [
    "## Save data into Snowflake\n",
    "For example, say we want to save a copy of a training dataset that we have used to build a model.\n",
    "\n",
    "<font color='red'> WARNING: Creating a saved dataset appears to break the Feast UI for some reason. </font>"
   ]
  },
  {
   "cell_type": "code",
   "execution_count": 9,
   "metadata": {},
   "outputs": [],
   "source": [
    "# Load the feature store from the current path\n",
    "fs = FeatureStore(repo_path=\".\")\n",
    "\n",
    "# Define feature views and features to retrieve\n",
    "features = [\"driver_hourly_stats:conv_rate\", \n",
    "            \"driver_hourly_stats:acc_rate\",\n",
    "            \"driver_hourly_stats:avg_daily_trips\"]"
   ]
  },
  {
   "cell_type": "code",
   "execution_count": 11,
   "metadata": {},
   "outputs": [
    {
     "name": "stderr",
     "output_type": "stream",
     "text": [
      "/Users/geoffrey.nightingale@contino.io/opt/anaconda3/envs/feast-test/lib/python3.8/site-packages/feast/feature_store.py:1115: RuntimeWarning: Saving dataset is an experimental feature. This API is unstable and it could and most probably will be changed in the future. We do not guarantee that future changes will maintain backward compatibility.\n",
      "  warnings.warn(\n"
     ]
    }
   ],
   "source": [
    "df = fs.get_historical_features(features=features, entity_df=entity_df)\n",
    "\n",
    "dataset = fs.create_saved_dataset(\n",
    "    from_=df,\n",
    "    name='driver_training_dataset',\n",
    "    storage=SavedDatasetFileStorage('data/my_training_dataset'),\n",
    "    tags={'author': 'geoff'}\n",
    ")"
   ]
  },
  {
   "cell_type": "code",
   "execution_count": 12,
   "metadata": {},
   "outputs": [
    {
     "data": {
      "text/html": [
       "<div>\n",
       "<style scoped>\n",
       "    .dataframe tbody tr th:only-of-type {\n",
       "        vertical-align: middle;\n",
       "    }\n",
       "\n",
       "    .dataframe tbody tr th {\n",
       "        vertical-align: top;\n",
       "    }\n",
       "\n",
       "    .dataframe thead th {\n",
       "        text-align: right;\n",
       "    }\n",
       "</style>\n",
       "<table border=\"1\" class=\"dataframe\">\n",
       "  <thead>\n",
       "    <tr style=\"text-align: right;\">\n",
       "      <th></th>\n",
       "      <th>event_timestamp</th>\n",
       "      <th>driver_id</th>\n",
       "      <th>conv_rate</th>\n",
       "      <th>acc_rate</th>\n",
       "      <th>avg_daily_trips</th>\n",
       "    </tr>\n",
       "  </thead>\n",
       "  <tbody>\n",
       "    <tr>\n",
       "      <th>0</th>\n",
       "      <td>2022-07-29 13:56:53.219000+00:00</td>\n",
       "      <td>1001</td>\n",
       "      <td>0.838634</td>\n",
       "      <td>0.549030</td>\n",
       "      <td>218</td>\n",
       "    </tr>\n",
       "    <tr>\n",
       "      <th>1</th>\n",
       "      <td>2022-07-31 01:56:53.219000+00:00</td>\n",
       "      <td>1002</td>\n",
       "      <td>0.681086</td>\n",
       "      <td>0.069958</td>\n",
       "      <td>956</td>\n",
       "    </tr>\n",
       "    <tr>\n",
       "      <th>2</th>\n",
       "      <td>2022-08-01 13:56:53.219000+00:00</td>\n",
       "      <td>1003</td>\n",
       "      <td>0.483464</td>\n",
       "      <td>0.183020</td>\n",
       "      <td>705</td>\n",
       "    </tr>\n",
       "  </tbody>\n",
       "</table>\n",
       "</div>"
      ],
      "text/plain": [
       "                   event_timestamp  driver_id  conv_rate  acc_rate  \\\n",
       "0 2022-07-29 13:56:53.219000+00:00       1001   0.838634  0.549030   \n",
       "1 2022-07-31 01:56:53.219000+00:00       1002   0.681086  0.069958   \n",
       "2 2022-08-01 13:56:53.219000+00:00       1003   0.483464  0.183020   \n",
       "\n",
       "   avg_daily_trips  \n",
       "0              218  \n",
       "1              956  \n",
       "2              705  "
      ]
     },
     "execution_count": 12,
     "metadata": {},
     "output_type": "execute_result"
    }
   ],
   "source": [
    "df.to_df().head()"
   ]
  },
  {
   "cell_type": "markdown",
   "metadata": {},
   "source": [
    "## Data validation\n",
    "https://docs.feast.dev/tutorials/validating-historical-features "
   ]
  },
  {
   "cell_type": "code",
   "execution_count": 13,
   "metadata": {},
   "outputs": [],
   "source": [
    "from great_expectations.dataset import Dataset\n",
    "from great_expectations.core.expectation_suite import ExpectationSuite\n",
    "from feast.dqm.profilers.ge_profiler import ge_profiler"
   ]
  },
  {
   "cell_type": "code",
   "execution_count": 14,
   "metadata": {},
   "outputs": [
    {
     "name": "stdout",
     "output_type": "stream",
     "text": [
      "                   event_timestamp  driver_id\n",
      "0 2022-07-29 13:57:49.692000+00:00       1001\n",
      "1 2022-07-31 01:57:49.692000+00:00       1002\n",
      "2 2022-08-01 13:57:49.692000+00:00       1003\n"
     ]
    }
   ],
   "source": [
    "# Create an entity dataframe. This is the dataframe that will be enriched with historical features\n",
    "entity_df = pd.DataFrame(\n",
    "    {\n",
    "        \"event_timestamp\": [\n",
    "            pd.Timestamp(dt, unit=\"ms\", tz=\"UTC\").round(\"ms\")\n",
    "            for dt in pd.date_range(\n",
    "                start=datetime.now() - timedelta(days=3),\n",
    "                end=datetime.now(),\n",
    "                periods=3,\n",
    "            )\n",
    "        ],\n",
    "        \"driver_id\": [1001, 1002, 1003],\n",
    "    }\n",
    ")\n",
    "\n",
    "print(entity_df.head())"
   ]
  },
  {
   "cell_type": "code",
   "execution_count": 22,
   "metadata": {},
   "outputs": [],
   "source": [
    "@ge_profiler\n",
    "def manual_profiler(ds):\n",
    "    ds.expect_column_values_to_be_between(\n",
    "        \"conv_rate\",\n",
    "        min_value=0,\n",
    "        max_value=0.85,\n",
    "        mostly=0.99  # allow some outliers\n",
    "    )\n",
    "\n",
    "    ds.expect_column_values_to_be_between(\n",
    "        \"acc_rate\",\n",
    "        min_value=0,\n",
    "        max_value=1.0,\n",
    "        mostly=0.99  # allow some outliers\n",
    "    )\n",
    "\n",
    "    ds.expect_column_values_to_be_between(\n",
    "        \"avg_daily_trips\",\n",
    "        min_value=0.0,\n",
    "        max_value=955.0,\n",
    "        mostly=0.99  # allow some outliers\n",
    "    )\n",
    "\n",
    "    return ds.get_expectation_suite()"
   ]
  },
  {
   "cell_type": "code",
   "execution_count": 23,
   "metadata": {},
   "outputs": [
    {
     "name": "stderr",
     "output_type": "stream",
     "text": [
      "/Users/geoffrey.nightingale@contino.io/opt/anaconda3/envs/feast-test/lib/python3.8/site-packages/feast/feature_store.py:1168: RuntimeWarning: Retrieving datasets is an experimental feature. This API is unstable and it could and most probably will be changed in the future. We do not guarantee that future changes will maintain backward compatibility.\n",
      "  warnings.warn(\n"
     ]
    },
    {
     "data": {
      "text/html": [
       "<div>\n",
       "<style scoped>\n",
       "    .dataframe tbody tr th:only-of-type {\n",
       "        vertical-align: middle;\n",
       "    }\n",
       "\n",
       "    .dataframe tbody tr th {\n",
       "        vertical-align: top;\n",
       "    }\n",
       "\n",
       "    .dataframe thead th {\n",
       "        text-align: right;\n",
       "    }\n",
       "</style>\n",
       "<table border=\"1\" class=\"dataframe\">\n",
       "  <thead>\n",
       "    <tr style=\"text-align: right;\">\n",
       "      <th></th>\n",
       "      <th>event_timestamp</th>\n",
       "      <th>acc_rate</th>\n",
       "      <th>avg_daily_trips</th>\n",
       "      <th>driver_id</th>\n",
       "      <th>conv_rate</th>\n",
       "    </tr>\n",
       "  </thead>\n",
       "  <tbody>\n",
       "    <tr>\n",
       "      <th>0</th>\n",
       "      <td>2022-07-29 13:56:53.219000+00:00</td>\n",
       "      <td>0.549030</td>\n",
       "      <td>218</td>\n",
       "      <td>1001</td>\n",
       "      <td>0.838634</td>\n",
       "    </tr>\n",
       "    <tr>\n",
       "      <th>1</th>\n",
       "      <td>2022-07-31 01:56:53.219000+00:00</td>\n",
       "      <td>0.069958</td>\n",
       "      <td>956</td>\n",
       "      <td>1002</td>\n",
       "      <td>0.681086</td>\n",
       "    </tr>\n",
       "    <tr>\n",
       "      <th>2</th>\n",
       "      <td>2022-08-01 13:56:53.219000+00:00</td>\n",
       "      <td>0.183020</td>\n",
       "      <td>705</td>\n",
       "      <td>1003</td>\n",
       "      <td>0.483464</td>\n",
       "    </tr>\n",
       "  </tbody>\n",
       "</table>\n",
       "</div>"
      ],
      "text/plain": [
       "                   event_timestamp  acc_rate  avg_daily_trips  driver_id  \\\n",
       "0 2022-07-29 13:56:53.219000+00:00  0.549030              218       1001   \n",
       "1 2022-07-31 01:56:53.219000+00:00  0.069958              956       1002   \n",
       "2 2022-08-01 13:56:53.219000+00:00  0.183020              705       1003   \n",
       "\n",
       "   conv_rate  \n",
       "0   0.838634  \n",
       "1   0.681086  \n",
       "2   0.483464  "
      ]
     },
     "execution_count": 23,
     "metadata": {},
     "output_type": "execute_result"
    }
   ],
   "source": [
    "ds = fs.get_saved_dataset('driver_training_dataset')\n",
    "ds.to_df().head()"
   ]
  },
  {
   "cell_type": "code",
   "execution_count": 24,
   "metadata": {},
   "outputs": [
    {
     "data": {
      "text/plain": [
       "<GEProfile with expectations: [\n",
       "  {\n",
       "    \"meta\": {},\n",
       "    \"kwargs\": {\n",
       "      \"column\": \"conv_rate\",\n",
       "      \"min_value\": 0,\n",
       "      \"max_value\": 0.85,\n",
       "      \"mostly\": 0.99\n",
       "    },\n",
       "    \"expectation_type\": \"expect_column_values_to_be_between\"\n",
       "  },\n",
       "  {\n",
       "    \"meta\": {},\n",
       "    \"kwargs\": {\n",
       "      \"column\": \"acc_rate\",\n",
       "      \"min_value\": 0,\n",
       "      \"max_value\": 1.0,\n",
       "      \"mostly\": 0.99\n",
       "    },\n",
       "    \"expectation_type\": \"expect_column_values_to_be_between\"\n",
       "  }\n",
       "]>"
      ]
     },
     "execution_count": 24,
     "metadata": {},
     "output_type": "execute_result"
    }
   ],
   "source": [
    "ds.get_profile(profiler=manual_profiler)"
   ]
  },
  {
   "cell_type": "code",
   "execution_count": 25,
   "metadata": {},
   "outputs": [],
   "source": [
    "validation_reference = ds.as_reference(profiler=manual_profiler, name='profiler_test')"
   ]
  },
  {
   "cell_type": "code",
   "execution_count": 26,
   "metadata": {},
   "outputs": [
    {
     "name": "stderr",
     "output_type": "stream",
     "text": [
      "/Users/geoffrey.nightingale@contino.io/opt/anaconda3/envs/feast-test/lib/python3.8/site-packages/feast/feature_store.py:1168: RuntimeWarning: Retrieving datasets is an experimental feature. This API is unstable and it could and most probably will be changed in the future. We do not guarantee that future changes will maintain backward compatibility.\n",
      "  warnings.warn(\n",
      "/Users/geoffrey.nightingale@contino.io/opt/anaconda3/envs/feast-test/lib/python3.8/site-packages/feast/infra/offline_stores/offline_store.py:93: RuntimeWarning: Dataset validation is an experimental feature. This API is unstable and it could and most probably will be changed in the future. We do not guarantee that future changes will maintain backward compatibility.\n",
      "  warnings.warn(\n"
     ]
    },
    {
     "data": {
      "text/html": [
       "<div>\n",
       "<style scoped>\n",
       "    .dataframe tbody tr th:only-of-type {\n",
       "        vertical-align: middle;\n",
       "    }\n",
       "\n",
       "    .dataframe tbody tr th {\n",
       "        vertical-align: top;\n",
       "    }\n",
       "\n",
       "    .dataframe thead th {\n",
       "        text-align: right;\n",
       "    }\n",
       "</style>\n",
       "<table border=\"1\" class=\"dataframe\">\n",
       "  <thead>\n",
       "    <tr style=\"text-align: right;\">\n",
       "      <th></th>\n",
       "      <th>event_timestamp</th>\n",
       "      <th>driver_id</th>\n",
       "      <th>conv_rate</th>\n",
       "      <th>acc_rate</th>\n",
       "      <th>avg_daily_trips</th>\n",
       "    </tr>\n",
       "  </thead>\n",
       "  <tbody>\n",
       "    <tr>\n",
       "      <th>0</th>\n",
       "      <td>2022-07-29 13:57:49.692000+00:00</td>\n",
       "      <td>1001</td>\n",
       "      <td>0.838634</td>\n",
       "      <td>0.549030</td>\n",
       "      <td>218</td>\n",
       "    </tr>\n",
       "    <tr>\n",
       "      <th>1</th>\n",
       "      <td>2022-07-31 01:57:49.692000+00:00</td>\n",
       "      <td>1002</td>\n",
       "      <td>0.681086</td>\n",
       "      <td>0.069958</td>\n",
       "      <td>956</td>\n",
       "    </tr>\n",
       "    <tr>\n",
       "      <th>2</th>\n",
       "      <td>2022-08-01 13:57:49.692000+00:00</td>\n",
       "      <td>1003</td>\n",
       "      <td>0.483464</td>\n",
       "      <td>0.183020</td>\n",
       "      <td>705</td>\n",
       "    </tr>\n",
       "  </tbody>\n",
       "</table>\n",
       "</div>"
      ],
      "text/plain": [
       "                   event_timestamp  driver_id  conv_rate  acc_rate  \\\n",
       "0 2022-07-29 13:57:49.692000+00:00       1001   0.838634  0.549030   \n",
       "1 2022-07-31 01:57:49.692000+00:00       1002   0.681086  0.069958   \n",
       "2 2022-08-01 13:57:49.692000+00:00       1003   0.483464  0.183020   \n",
       "\n",
       "   avg_daily_trips  \n",
       "0              218  \n",
       "1              956  \n",
       "2              705  "
      ]
     },
     "execution_count": 26,
     "metadata": {},
     "output_type": "execute_result"
    }
   ],
   "source": [
    "job = fs.get_historical_features(features=features, entity_df=entity_df)\n",
    "job.to_df(\n",
    "    validation_reference=fs\n",
    "        .get_saved_dataset(\"driver_training_dataset\")\n",
    "        .as_reference(profiler=manual_profiler, name=\"profiler_test\")\n",
    ")"
   ]
  },
  {
   "cell_type": "code",
   "execution_count": 27,
   "metadata": {},
   "outputs": [
    {
     "name": "stderr",
     "output_type": "stream",
     "text": [
      "/Users/geoffrey.nightingale@contino.io/opt/anaconda3/envs/feast-test/lib/python3.8/site-packages/feast/infra/offline_stores/offline_store.py:93: RuntimeWarning: Dataset validation is an experimental feature. This API is unstable and it could and most probably will be changed in the future. We do not guarantee that future changes will maintain backward compatibility.\n",
      "  warnings.warn(\n"
     ]
    }
   ],
   "source": [
    "_ = job.to_df(validation_reference=validation_reference)"
   ]
  },
  {
   "cell_type": "markdown",
   "metadata": {},
   "source": [
    "## Load data into the online feature store\n",
    "Materlialising the latest data for entities into the online feature store."
   ]
  },
  {
   "cell_type": "code",
   "execution_count": 24,
   "metadata": {},
   "outputs": [
    {
     "name": "stdout",
     "output_type": "stream",
     "text": [
      "Materializing \u001b[1m\u001b[32m3\u001b[0m feature views to \u001b[1m\u001b[32m2022-07-28 10:36:20+01:00\u001b[0m into the \u001b[1m\u001b[32mdynamodb\u001b[0m online store.\n",
      "\n",
      "\u001b[1m\u001b[32mdriver_hourly_stats\u001b[0m from \u001b[1m\u001b[32m2021-07-29 09:36:20+01:00\u001b[0m to \u001b[1m\u001b[32m2022-07-28 10:36:20+01:00\u001b[0m:\n"
     ]
    },
    {
     "name": "stderr",
     "output_type": "stream",
     "text": [
      "100%|█████████████████████████████████████████████████████████████████| 5/5 [00:00<00:00, 31.71it/s]\n"
     ]
    },
    {
     "name": "stdout",
     "output_type": "stream",
     "text": [
      "\u001b[1m\u001b[32mdriver_avg_daily_trips\u001b[0m from \u001b[1m\u001b[32m2021-07-29 09:36:21+01:00\u001b[0m to \u001b[1m\u001b[32m2022-07-28 11:36:20+01:00\u001b[0m:\n"
     ]
    },
    {
     "name": "stderr",
     "output_type": "stream",
     "text": [
      "100%|████████████████████████████████████████████████████████████████| 5/5 [00:00<00:00, 130.27it/s]\n"
     ]
    },
    {
     "name": "stdout",
     "output_type": "stream",
     "text": [
      "\u001b[1m\u001b[32mdriver_orders\u001b[0m from \u001b[1m\u001b[32m2021-07-29 09:36:22+01:00\u001b[0m to \u001b[1m\u001b[32m2022-07-28 11:36:20+01:00\u001b[0m:\n"
     ]
    },
    {
     "name": "stderr",
     "output_type": "stream",
     "text": [
      "0it [00:00, ?it/s]\n"
     ]
    }
   ],
   "source": [
    "fs.materialize_incremental(end_date=datetime.now())"
   ]
  },
  {
   "cell_type": "markdown",
   "metadata": {},
   "source": [
    "## Get data from online feature store\n",
    "\n",
    "We use get_online_features() to retrieve data from the online feature store."
   ]
  },
  {
   "cell_type": "code",
   "execution_count": 25,
   "metadata": {},
   "outputs": [
    {
     "data": {
      "text/html": [
       "<div>\n",
       "<style scoped>\n",
       "    .dataframe tbody tr th:only-of-type {\n",
       "        vertical-align: middle;\n",
       "    }\n",
       "\n",
       "    .dataframe tbody tr th {\n",
       "        vertical-align: top;\n",
       "    }\n",
       "\n",
       "    .dataframe thead th {\n",
       "        text-align: right;\n",
       "    }\n",
       "</style>\n",
       "<table border=\"1\" class=\"dataframe\">\n",
       "  <thead>\n",
       "    <tr style=\"text-align: right;\">\n",
       "      <th></th>\n",
       "      <th>driver_id</th>\n",
       "      <th>acc_rate</th>\n",
       "      <th>conv_rate</th>\n",
       "      <th>avg_daily_trips</th>\n",
       "      <th>trip_completed</th>\n",
       "    </tr>\n",
       "  </thead>\n",
       "  <tbody>\n",
       "    <tr>\n",
       "      <th>0</th>\n",
       "      <td>1001</td>\n",
       "      <td>0.466293</td>\n",
       "      <td>0.913352</td>\n",
       "      <td>975</td>\n",
       "      <td>None</td>\n",
       "    </tr>\n",
       "    <tr>\n",
       "      <th>1</th>\n",
       "      <td>1002</td>\n",
       "      <td>0.374785</td>\n",
       "      <td>0.025624</td>\n",
       "      <td>552</td>\n",
       "      <td>None</td>\n",
       "    </tr>\n",
       "  </tbody>\n",
       "</table>\n",
       "</div>"
      ],
      "text/plain": [
       "   driver_id  acc_rate  conv_rate  avg_daily_trips trip_completed\n",
       "0       1001  0.466293   0.913352              975           None\n",
       "1       1002  0.374785   0.025624              552           None"
      ]
     },
     "execution_count": 25,
     "metadata": {},
     "output_type": "execute_result"
    }
   ],
   "source": [
    "online_features = fs.get_online_features(\n",
    "    features=features, entity_rows=[{\"driver_id\": 1001}, {\"driver_id\": 1002}],\n",
    ").to_df()\n",
    "\n",
    "online_features"
   ]
  },
  {
   "cell_type": "markdown",
   "metadata": {},
   "source": [
    "## Feast CLI"
   ]
  },
  {
   "cell_type": "code",
   "execution_count": 27,
   "metadata": {},
   "outputs": [
    {
     "name": "stdout",
     "output_type": "stream",
     "text": [
      "Usage: feast [OPTIONS] COMMAND [ARGS]...\n",
      "\n",
      "  Feast CLI\n",
      "\n",
      "  For more information, see our public docs at https://docs.feast.dev/\n",
      "\n",
      "  For any questions, you can reach us at https://slack.feast.dev/\n",
      "\n",
      "Options:\n",
      "  -c, --chdir TEXT  Switch to a different feature repository directory before\n",
      "                    executing the given subcommand.\n",
      "  --log-level TEXT  The logging level. One of DEBUG, INFO, WARNING, ERROR, and\n",
      "                    CRITICAL (case-insensitive).\n",
      "  --help            Show this message and exit.\n",
      "\n",
      "Commands:\n",
      "  alpha                    Access alpha features\n",
      "  apply                    Create or update a feature store deployment\n",
      "  data-sources             Access data sources\n",
      "  endpoint                 Display feature server endpoints\n",
      "  entities                 Access entities\n",
      "  feature-services         Access feature services\n",
      "  feature-views            Access feature views\n",
      "  init                     Create a new Feast repository\n",
      "  materialize              Run a (non-incremental) materialization job to...\n",
      "  materialize-incremental  Run an incremental materialization job to...\n",
      "  on-demand-feature-views  [Experimental] Access on demand feature views\n",
      "  plan                     Create or update a feature store deployment\n",
      "  registry-dump            Print contents of the metadata registry\n",
      "  repo-upgrade             Upgrade a feature repo in place.\n",
      "  serve                    Start a feature server locally on a given port.\n",
      "  serve_transformations    [Experimental] Start a feature consumption...\n",
      "  teardown                 Tear down deployed feature store infrastructure\n",
      "  ui                       Shows the Feast UI over the current directory\n",
      "  validate                 Perform validation of logged features...\n",
      "  version                  Display Feast SDK version\n"
     ]
    }
   ],
   "source": [
    "!feast --help"
   ]
  },
  {
   "cell_type": "code",
   "execution_count": 112,
   "metadata": {},
   "outputs": [
    {
     "name": "stdout",
     "output_type": "stream",
     "text": [
      "NAME                    ENTITIES    TYPE\n",
      "driver_hourly_stats     {'driver'}  FeatureView\n",
      "driver_avg_daily_trips  {'driver'}  FeatureView\n",
      "driver_orders           {'driver'}  FeatureView\n",
      "^C\n",
      "Exception ignored in: <module 'threading' from '/Users/geoffrey.nightingale@contino.io/opt/anaconda3/lib/python3.9/threading.py'>\n",
      "Traceback (most recent call last):\n",
      "  File \"/Users/geoffrey.nightingale@contino.io/opt/anaconda3/lib/python3.9/threading.py\", line 1440, in _shutdown\n",
      "    atexit_call()\n",
      "  File \"/Users/geoffrey.nightingale@contino.io/opt/anaconda3/lib/python3.9/concurrent/futures/thread.py\", line 31, in _python_exit\n",
      "    t.join()\n",
      "  File \"/Users/geoffrey.nightingale@contino.io/opt/anaconda3/lib/python3.9/threading.py\", line 1053, in join\n",
      "    self._wait_for_tstate_lock()\n",
      "  File \"/Users/geoffrey.nightingale@contino.io/opt/anaconda3/lib/python3.9/threading.py\", line 1073, in _wait_for_tstate_lock\n",
      "    if lock.acquire(block, timeout):\n",
      "KeyboardInterrupt: \n"
     ]
    }
   ],
   "source": [
    "!feast feature-views list"
   ]
  },
  {
   "cell_type": "code",
   "execution_count": 113,
   "metadata": {},
   "outputs": [
    {
     "name": "stdout",
     "output_type": "stream",
     "text": [
      "NAME    DESCRIPTION    TYPE\n",
      "driver                 ValueType.UNKNOWN\n",
      "^C\n",
      "Exception ignored in: <module 'threading' from '/Users/geoffrey.nightingale@contino.io/opt/anaconda3/lib/python3.9/threading.py'>\n",
      "Traceback (most recent call last):\n",
      "  File \"/Users/geoffrey.nightingale@contino.io/opt/anaconda3/lib/python3.9/threading.py\", line 1440, in _shutdown\n",
      "    atexit_call()\n",
      "  File \"/Users/geoffrey.nightingale@contino.io/opt/anaconda3/lib/python3.9/concurrent/futures/thread.py\", line 31, in _python_exit\n",
      "    t.join()\n",
      "  File \"/Users/geoffrey.nightingale@contino.io/opt/anaconda3/lib/python3.9/threading.py\", line 1053, in join\n",
      "    self._wait_for_tstate_lock()\n",
      "  File \"/Users/geoffrey.nightingale@contino.io/opt/anaconda3/lib/python3.9/threading.py\", line 1073, in _wait_for_tstate_lock\n",
      "    if lock.acquire(block, timeout):\n",
      "KeyboardInterrupt: \n"
     ]
    }
   ],
   "source": [
    "!feast entities list"
   ]
  },
  {
   "cell_type": "code",
   "execution_count": 32,
   "metadata": {},
   "outputs": [
    {
     "name": "stdout",
     "output_type": "stream",
     "text": [
      "{\n",
      "  \"dataSources\": [\n",
      "    {\n",
      "      \"name\": \"DRIVER_ORDERS\",\n",
      "      \"snowflakeOptions\": {\n",
      "        \"database\": \"FEAST_TEST\",\n",
      "        \"schema\": \"PUBLIC\",\n",
      "        \"table\": \"DRIVER_ORDERS\",\n",
      "        \"warehouse\": \"COMPUTE_WH\"\n",
      "      },\n",
      "      \"timestampField\": \"EVENT_TIMESTAMP\",\n",
      "      \"type\": \"BATCH_SNOWFLAKE\"\n",
      "    },\n",
      "    {\n",
      "      \"name\": \"driver_orders\",\n",
      "      \"snowflakeOptions\": {\n",
      "        \"database\": \"FEAST_TEST\",\n",
      "        \"schema\": \"PUBLIC\",\n",
      "        \"table\": \"driver_orders\",\n",
      "        \"warehouse\": \"COMPUTE_WH\"\n",
      "      },\n",
      "      \"timestampField\": \"event_timestamp\",\n",
      "      \"type\": \"BATCH_SNOWFLAKE\"\n",
      "    },\n",
      "    {\n",
      "      \"createdTimestampColumn\": \"created\",\n",
      "      \"name\": \"feast_test_feast_driver_hourly_stats\",\n",
      "      \"snowflakeOptions\": {\n",
      "        \"database\": \"FEAST_TEST\",\n",
      "        \"schema\": \"PUBLIC\",\n",
      "        \"table\": \"feast_test_feast_driver_hourly_stats\",\n",
      "        \"warehouse\": \"COMPUTE_WH\"\n",
      "      },\n",
      "      \"timestampField\": \"event_timestamp\",\n",
      "      \"type\": \"BATCH_SNOWFLAKE\"\n",
      "    }\n",
      "  ],\n",
      "  \"entities\": [\n",
      "    {\n",
      "      \"meta\": {\n",
      "        \"createdTimestamp\": \"2022-07-22T07:38:46.975956Z\",\n",
      "        \"lastUpdatedTimestamp\": \"2022-07-22T08:11:47.094543Z\"\n",
      "      },\n",
      "      \"spec\": {\n",
      "        \"joinKey\": \"__dummy_id\",\n",
      "        \"name\": \"__dummy\"\n",
      "      }\n",
      "    },\n",
      "    {\n",
      "      \"meta\": {\n",
      "        \"createdTimestamp\": \"2022-07-22T07:38:46.975752Z\",\n",
      "        \"lastUpdatedTimestamp\": \"2022-07-22T08:11:47.094378Z\"\n",
      "      },\n",
      "      \"spec\": {\n",
      "        \"joinKey\": \"driver_id\",\n",
      "        \"name\": \"driver\"\n",
      "      }\n",
      "    }\n",
      "  ],\n",
      "  \"featureServices\": [\n",
      "    {\n",
      "      \"meta\": {\n",
      "        \"createdTimestamp\": \"2022-07-22T08:11:47.094673Z\",\n",
      "        \"lastUpdatedTimestamp\": \"2022-07-22T08:11:47.094673Z\"\n",
      "      },\n",
      "      \"spec\": {\n",
      "        \"features\": [\n",
      "          {\n",
      "            \"featureColumns\": [\n",
      "              {\n",
      "                \"name\": \"conv_rate\",\n",
      "                \"valueType\": \"FLOAT\"\n",
      "              },\n",
      "              {\n",
      "                \"name\": \"acc_rate\",\n",
      "                \"valueType\": \"FLOAT\"\n",
      "              }\n",
      "            ],\n",
      "            \"featureViewName\": \"driver_hourly_stats\"\n",
      "          },\n",
      "          {\n",
      "            \"featureColumns\": [\n",
      "              {\n",
      "                \"name\": \"avg_daily_trips\",\n",
      "                \"valueType\": \"INT64\"\n",
      "              }\n",
      "            ],\n",
      "            \"featureViewName\": \"driver_avg_daily_trips\"\n",
      "          },\n",
      "          {\n",
      "            \"featureColumns\": [\n",
      "              {\n",
      "                \"name\": \"trip_completed\",\n",
      "                \"valueType\": \"INT64\"\n",
      "              }\n",
      "            ],\n",
      "            \"featureViewName\": \"driver_orders\"\n",
      "          }\n",
      "        ],\n",
      "        \"name\": \"driver_activity\"\n",
      "      }\n",
      "    }\n",
      "  ],\n",
      "  \"featureViews\": [\n",
      "    {\n",
      "      \"meta\": {\n",
      "        \"createdTimestamp\": \"2022-07-22T07:38:46.973182Z\",\n",
      "        \"lastUpdatedTimestamp\": \"2022-07-22T07:38:46.973182Z\"\n",
      "      },\n",
      "      \"spec\": {\n",
      "        \"batchSource\": {\n",
      "          \"createdTimestampColumn\": \"created\",\n",
      "          \"dataSourceClassType\": \"feast.infra.offline_stores.snowflake_source.SnowflakeSource\",\n",
      "          \"name\": \"feast_test_feast_driver_hourly_stats\",\n",
      "          \"snowflakeOptions\": {\n",
      "            \"database\": \"FEAST_TEST\",\n",
      "            \"schema\": \"PUBLIC\",\n",
      "            \"table\": \"feast_test_feast_driver_hourly_stats\",\n",
      "            \"warehouse\": \"COMPUTE_WH\"\n",
      "          },\n",
      "          \"timestampField\": \"event_timestamp\",\n",
      "          \"type\": \"BATCH_SNOWFLAKE\"\n",
      "        },\n",
      "        \"entities\": [\n",
      "          \"driver\"\n",
      "        ],\n",
      "        \"entityColumns\": [\n",
      "          {\n",
      "            \"name\": \"driver_id\",\n",
      "            \"valueType\": \"INT32\"\n",
      "          }\n",
      "        ],\n",
      "        \"features\": [\n",
      "          {\n",
      "            \"name\": \"avg_daily_trips\",\n",
      "            \"valueType\": \"INT64\"\n",
      "          }\n",
      "        ],\n",
      "        \"name\": \"driver_avg_daily_trips\",\n",
      "        \"ttl\": \"31449600s\"\n",
      "      }\n",
      "    },\n",
      "    {\n",
      "      \"meta\": {\n",
      "        \"createdTimestamp\": \"2022-07-20T15:21:55.621078Z\",\n",
      "        \"lastUpdatedTimestamp\": \"2022-07-20T15:21:55.621078Z\"\n",
      "      },\n",
      "      \"spec\": {\n",
      "        \"batchSource\": {\n",
      "          \"createdTimestampColumn\": \"created\",\n",
      "          \"dataSourceClassType\": \"feast.infra.offline_stores.snowflake_source.SnowflakeSource\",\n",
      "          \"name\": \"feast_test_feast_driver_hourly_stats\",\n",
      "          \"snowflakeOptions\": {\n",
      "            \"database\": \"FEAST_TEST\",\n",
      "            \"schema\": \"PUBLIC\",\n",
      "            \"table\": \"feast_test_feast_driver_hourly_stats\",\n",
      "            \"warehouse\": \"COMPUTE_WH\"\n",
      "          },\n",
      "          \"timestampField\": \"event_timestamp\",\n",
      "          \"type\": \"BATCH_SNOWFLAKE\"\n",
      "        },\n",
      "        \"entities\": [\n",
      "          \"driver\"\n",
      "        ],\n",
      "        \"entityColumns\": [\n",
      "          {\n",
      "            \"name\": \"driver_id\",\n",
      "            \"valueType\": \"INT32\"\n",
      "          }\n",
      "        ],\n",
      "        \"features\": [\n",
      "          {\n",
      "            \"name\": \"conv_rate\",\n",
      "            \"valueType\": \"FLOAT\"\n",
      "          },\n",
      "          {\n",
      "            \"name\": \"acc_rate\",\n",
      "            \"valueType\": \"FLOAT\"\n",
      "          }\n",
      "        ],\n",
      "        \"name\": \"driver_hourly_stats\",\n",
      "        \"ttl\": \"31449600s\"\n",
      "      }\n",
      "    },\n",
      "    {\n",
      "      \"meta\": {\n",
      "        \"createdTimestamp\": \"2022-07-20T15:21:55.622989Z\",\n",
      "        \"lastUpdatedTimestamp\": \"2022-07-20T15:21:55.622989Z\"\n",
      "      },\n",
      "      \"spec\": {\n",
      "        \"batchSource\": {\n",
      "          \"dataSourceClassType\": \"feast.infra.offline_stores.snowflake_source.SnowflakeSource\",\n",
      "          \"name\": \"driver_orders\",\n",
      "          \"snowflakeOptions\": {\n",
      "            \"database\": \"FEAST_TEST\",\n",
      "            \"schema\": \"PUBLIC\",\n",
      "            \"table\": \"driver_orders\",\n",
      "            \"warehouse\": \"COMPUTE_WH\"\n",
      "          },\n",
      "          \"timestampField\": \"event_timestamp\",\n",
      "          \"type\": \"BATCH_SNOWFLAKE\"\n",
      "        },\n",
      "        \"entities\": [\n",
      "          \"driver\"\n",
      "        ],\n",
      "        \"entityColumns\": [\n",
      "          {\n",
      "            \"name\": \"driver_id\",\n",
      "            \"valueType\": \"INT32\"\n",
      "          }\n",
      "        ],\n",
      "        \"features\": [\n",
      "          {\n",
      "            \"name\": \"trip_completed\",\n",
      "            \"valueType\": \"INT64\"\n",
      "          }\n",
      "        ],\n",
      "        \"name\": \"driver_orders\",\n",
      "        \"ttl\": \"31449600s\"\n",
      "      }\n",
      "    }\n",
      "  ],\n",
      "  \"infra\": [\n",
      "    {\n",
      "      \"name\": \"feast_test_driver_hourly_stats\",\n",
      "      \"path\": \"/Users/geoffrey.nightingale@contino.io/Documents/code/snowflake-and-feast-feature-store/feast_test/data/online.db\"\n",
      "    }\n",
      "  ],\n",
      "  \"project\": \"feast_test\",\n",
      "  \"savedDatasets\": [\n",
      "    {\n",
      "      \"meta\": {\n",
      "        \"createdTimestamp\": \"2022-07-20T16:29:08.723175Z\",\n",
      "        \"maxEventTimestamp\": \"2022-07-20T17:27:32.201Z\",\n",
      "        \"minEventTimestamp\": \"2022-07-17T17:27:32.201Z\"\n",
      "      },\n",
      "      \"spec\": {\n",
      "        \"features\": [\n",
      "          \"driver_hourly_stats:conv_rate\",\n",
      "          \"driver_hourly_stats:acc_rate\",\n",
      "          \"driver_avg_daily_trips:avg_daily_trips\",\n",
      "          \"driver_orders:trip_completed\"\n",
      "        ],\n",
      "        \"joinKeys\": [\n",
      "          \"driver_id\"\n",
      "        ],\n",
      "        \"name\": \"driver_training_dataset\",\n",
      "        \"storage\": {\n",
      "          \"snowflakeStorage\": {\n",
      "            \"table\": \"my_training_dataset\"\n",
      "          }\n",
      "        },\n",
      "        \"tags\": {\n",
      "          \"author\": \"geoff\"\n",
      "        }\n",
      "      }\n",
      "    }\n",
      "  ]\n",
      "}\n"
     ]
    }
   ],
   "source": [
    "!feast registry-dump"
   ]
  }
 ],
 "metadata": {
  "kernelspec": {
   "display_name": "Python 3.8.13 ('feast-test')",
   "language": "python",
   "name": "python3"
  },
  "language_info": {
   "codemirror_mode": {
    "name": "ipython",
    "version": 3
   },
   "file_extension": ".py",
   "mimetype": "text/x-python",
   "name": "python",
   "nbconvert_exporter": "python",
   "pygments_lexer": "ipython3",
   "version": "3.8.13"
  },
  "orig_nbformat": 4,
  "vscode": {
   "interpreter": {
    "hash": "ba789a4f851cc00dd420d0f5d37fbd1a00c9c64a9edbe6440640c0431e0e7607"
   }
  }
 },
 "nbformat": 4,
 "nbformat_minor": 2
}
